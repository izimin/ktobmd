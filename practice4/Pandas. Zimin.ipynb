{
 "nbformat": 4,
 "nbformat_minor": 0,
 "metadata": {
  "colab": {
   "name": "Practice4. Pandas. Zimin.ipynb",
   "provenance": [],
   "collapsed_sections": []
  },
  "kernelspec": {
   "name": "python3",
   "language": "python",
   "display_name": "Python 3"
  }
 },
 "cells": [
  {
   "cell_type": "markdown",
   "metadata": {
    "id": "HrVnRESSPrpC"
   },
   "source": [
    "# Практика по Pandas. Зимин Илья"
   ]
  },
  {
   "cell_type": "markdown",
   "metadata": {
    "id": "A2J1JiMwPn8U"
   },
   "source": [
    "### Импорты"
   ]
  },
  {
   "cell_type": "code",
   "metadata": {
    "id": "TnBfkl0cPIRD"
   },
   "source": [
    "import pandas as pd"
   ],
   "execution_count": null,
   "outputs": []
  },
  {
   "cell_type": "markdown",
   "metadata": {
    "id": "77Z1gjGfQUbk"
   },
   "source": [
    "### Считывание"
   ]
  },
  {
   "cell_type": "code",
   "metadata": {
    "id": "Nj4De_RIQg73",
    "outputId": "da2601fc-f27f-4bae-e23e-a9e8de9be93b",
    "colab": {
     "base_uri": "https://localhost:8080/",
     "height": 252
    }
   },
   "source": [
    "df = pd.read_csv('titanic.csv')\n",
    "\n",
    "print(df)"
   ],
   "execution_count": null,
   "outputs": [
    {
     "output_type": "stream",
     "text": [
      "     PassengerId  Survived  Pclass  ...     Fare Cabin  Embarked\n",
      "0              1         0       3  ...   7.2500   NaN         S\n",
      "1              2         1       1  ...  71.2833   C85         C\n",
      "2              3         1       3  ...   7.9250   NaN         S\n",
      "3              4         1       1  ...  53.1000  C123         S\n",
      "4              5         0       3  ...   8.0500   NaN         S\n",
      "..           ...       ...     ...  ...      ...   ...       ...\n",
      "886          887         0       2  ...  13.0000   NaN         S\n",
      "887          888         1       1  ...  30.0000   B42         S\n",
      "888          889         0       3  ...  23.4500   NaN         S\n",
      "889          890         1       1  ...  30.0000  C148         C\n",
      "890          891         0       3  ...   7.7500   NaN         Q\n",
      "\n",
      "[891 rows x 12 columns]\n"
     ],
     "name": "stdout"
    }
   ]
  },
  {
   "cell_type": "markdown",
   "metadata": {
    "id": "_7JjApH7Q-0x"
   },
   "source": [
    "### 1. Какое количество мужчин и женщин ехало на корабле?"
   ]
  },
  {
   "cell_type": "code",
   "metadata": {
    "id": "Y2Q9G4N-RBR6",
    "outputId": "38307744-6e3f-479d-c295-63b9d8075eb8",
    "colab": {
     "base_uri": "https://localhost:8080/",
     "height": 34
    }
   },
   "source": [
    "total = len(df.index)\n",
    "\n",
    "male_count = len(df[df.Sex == 'male'])\n",
    "\n",
    "print(male_count, total - male_count)"
   ],
   "execution_count": null,
   "outputs": [
    {
     "output_type": "stream",
     "text": [
      "577 314\n"
     ],
     "name": "stdout"
    }
   ]
  },
  {
   "cell_type": "markdown",
   "metadata": {
    "id": "LQejzkPAStkA"
   },
   "source": [
    "### 2. Какой части пассажиров удалось выжить?"
   ]
  },
  {
   "cell_type": "code",
   "metadata": {
    "id": "afGq4Y1XSvfE",
    "outputId": "90379a5b-2a58-4b95-eb09-d6076884a1a6",
    "colab": {
     "base_uri": "https://localhost:8080/",
     "height": 34
    }
   },
   "source": [
    "print('%.2f' % (100 / total * len(df[df.Survived == 1])))"
   ],
   "execution_count": null,
   "outputs": [
    {
     "output_type": "stream",
     "text": [
      "38.38\n"
     ],
     "name": "stdout"
    }
   ]
  },
  {
   "cell_type": "markdown",
   "metadata": {
    "id": "6NijpIKFUL6C"
   },
   "source": [
    "### 3. Какую долю пассажиры первого класса составляли среди всех пассажиров?"
   ]
  },
  {
   "cell_type": "code",
   "metadata": {
    "id": "hkagwUSYURaj",
    "outputId": "1d73f1f1-fafa-4ea1-c737-b7a93463c3e5",
    "colab": {
     "base_uri": "https://localhost:8080/",
     "height": 34
    }
   },
   "source": [
    "print('%.2f' % (100 / total * len(df[df.Pclass == 1])))"
   ],
   "execution_count": null,
   "outputs": [
    {
     "output_type": "stream",
     "text": [
      "24.24\n"
     ],
     "name": "stdout"
    }
   ]
  },
  {
   "cell_type": "markdown",
   "metadata": {
    "id": "2aTWp20wUsCR"
   },
   "source": [
    "### 4. Какого возраста были пассажиры? Среднее и медиана"
   ]
  },
  {
   "cell_type": "code",
   "metadata": {
    "id": "731Nb0_XUw27",
    "outputId": "54e64a55-b3aa-4f88-876e-7a157c077f6e",
    "colab": {
     "base_uri": "https://localhost:8080/",
     "height": 34
    }
   },
   "source": [
    "df.fillna(0, inplace=True)\n",
    "data = df.Age.describe()\n",
    "\n",
    "print('%.2f %.2f' % (data['mean'], data['50%']))"
   ],
   "execution_count": 66,
   "outputs": [
    {
     "output_type": "stream",
     "text": [
      "23.80 24.00\n"
     ],
     "name": "stdout"
    }
   ]
  },
  {
   "cell_type": "markdown",
   "metadata": {
    "id": "betq39CPWzrR"
   },
   "source": [
    "### 5. Коррелируют ли число братьев/сестер/супругов с числом родителей/детей?"
   ]
  },
  {
   "cell_type": "code",
   "metadata": {
    "id": "T71psj6yW-Yr",
    "outputId": "c9a1150a-c11c-408b-9740-fea396e982f1",
    "colab": {
     "base_uri": "https://localhost:8080/",
     "height": 106
    }
   },
   "source": [
    "df[['SibSp', 'Parch']].corr(method=\"pearson\")"
   ],
   "execution_count": null,
   "outputs": [
    {
     "output_type": "execute_result",
     "data": {
      "text/html": [
       "<div>\n",
       "<style scoped>\n",
       "    .dataframe tbody tr th:only-of-type {\n",
       "        vertical-align: middle;\n",
       "    }\n",
       "\n",
       "    .dataframe tbody tr th {\n",
       "        vertical-align: top;\n",
       "    }\n",
       "\n",
       "    .dataframe thead th {\n",
       "        text-align: right;\n",
       "    }\n",
       "</style>\n",
       "<table border=\"1\" class=\"dataframe\">\n",
       "  <thead>\n",
       "    <tr style=\"text-align: right;\">\n",
       "      <th></th>\n",
       "      <th>SibSp</th>\n",
       "      <th>Parch</th>\n",
       "    </tr>\n",
       "  </thead>\n",
       "  <tbody>\n",
       "    <tr>\n",
       "      <th>SibSp</th>\n",
       "      <td>1.000000</td>\n",
       "      <td>0.414838</td>\n",
       "    </tr>\n",
       "    <tr>\n",
       "      <th>Parch</th>\n",
       "      <td>0.414838</td>\n",
       "      <td>1.000000</td>\n",
       "    </tr>\n",
       "  </tbody>\n",
       "</table>\n",
       "</div>"
      ],
      "text/plain": [
       "          SibSp     Parch\n",
       "SibSp  1.000000  0.414838\n",
       "Parch  0.414838  1.000000"
      ]
     },
     "metadata": {
      "tags": []
     },
     "execution_count": 41
    }
   ]
  },
  {
   "cell_type": "markdown",
   "metadata": {
    "id": "y27KN5R3YFiw"
   },
   "source": [
    "### 6. Дополнительно. Самое популярное женское имя"
   ]
  },
  {
   "cell_type": "code",
   "metadata": {
    "id": "CRiicsfEaslQ",
    "outputId": "e133b7e1-63dc-4ef8-e542-35f1e6423d32",
    "colab": {
     "base_uri": "https://localhost:8080/",
     "height": 34
    }
   },
   "source": [
    "freq = {}\n",
    "women = df[df.Sex == 'female'].Name\n",
    "for woman in women:\n",
    "  name = woman.split('.')[1].strip()\n",
    "  if name.startswith('of'):\n",
    "    name = name[2:].strip()\n",
    "  if name.startswith('('):\n",
    "    name = name.split(')')[0][1:]\n",
    "  else:\n",
    "    name = name.split('(')[0].strip().split('\"')[0].strip()\n",
    "  freq[name] = 1 if name not in freq else freq[name] + 1\n",
    "  \n",
    "print(sorted(freq.items(), key=lambda pair: (pair[1]))[-1][0])"
   ],
   "execution_count": 65,
   "outputs": [
    {
     "output_type": "stream",
     "text": [
      "Mary\n"
     ],
     "name": "stdout"
    }
   ]
  }
 ]
}